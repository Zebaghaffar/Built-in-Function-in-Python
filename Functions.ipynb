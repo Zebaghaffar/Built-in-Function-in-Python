{
  "nbformat": 4,
  "nbformat_minor": 0,
  "metadata": {
    "colab": {
      "name": "Functions.ipynb",
      "provenance": [],
      "include_colab_link": true
    },
    "kernelspec": {
      "name": "python3",
      "display_name": "Python 3"
    }
  },
  "cells": [
    {
      "cell_type": "markdown",
      "metadata": {
        "id": "view-in-github",
        "colab_type": "text"
      },
      "source": [
        "<a href=\"https://colab.research.google.com/github/Zebaghaffar/Built-in-Function-in-Python/blob/master/Functions.ipynb\" target=\"_parent\"><img src=\"https://colab.research.google.com/assets/colab-badge.svg\" alt=\"Open In Colab\"/></a>"
      ]
    },
    {
      "cell_type": "markdown",
      "metadata": {
        "id": "89mHEe7b8XcY",
        "colab_type": "text"
      },
      "source": [
        ""
      ]
    },
    {
      "cell_type": "markdown",
      "metadata": {
        "id": "3J6vKTea8bmF",
        "colab_type": "text"
      },
      "source": [
        "Assignment # 01\n",
        "**Buit-in Function**\n"
      ]
    },
    {
      "cell_type": "markdown",
      "metadata": {
        "id": "eqrdOsOR9NFt",
        "colab_type": "text"
      },
      "source": [
        "**abs()**\n",
        "\n",
        "Return the absolute value of a number. The argument may be an integer or a floating point number. If the argument is a complex number, its magnitude is returned.\n"
      ]
    },
    {
      "cell_type": "code",
      "metadata": {
        "id": "IoXReU1Z9XOn",
        "colab_type": "code",
        "outputId": "2e366494-6021-46f3-e959-f66bc5a3d4c1",
        "colab": {
          "base_uri": "https://localhost:8080/",
          "height": 34
        }
      },
      "source": [
        "a=-2\n",
        "print(abs(a))"
      ],
      "execution_count": 0,
      "outputs": [
        {
          "output_type": "stream",
          "text": [
            "2\n"
          ],
          "name": "stdout"
        }
      ]
    },
    {
      "cell_type": "markdown",
      "metadata": {
        "id": "k_N69xfY9gzg",
        "colab_type": "text"
      },
      "source": [
        "**all**()\n",
        "\n",
        "Return True if all elements of the iterable are true (or if the iterable is empty).\n"
      ]
    },
    {
      "cell_type": "code",
      "metadata": {
        "id": "UuVb2ANv-BlT",
        "colab_type": "code",
        "outputId": "fcd48f63-a811-4905-8e12-357f49f23a30",
        "colab": {
          "base_uri": "https://localhost:8080/",
          "height": 34
        }
      },
      "source": [
        "a=[1, 2, 3]\n",
        "print(all(a))\n",
        "\n"
      ],
      "execution_count": 0,
      "outputs": [
        {
          "output_type": "stream",
          "text": [
            "True\n"
          ],
          "name": "stdout"
        }
      ]
    },
    {
      "cell_type": "code",
      "metadata": {
        "id": "2fI6_Rye-S4k",
        "colab_type": "code",
        "outputId": "2f2dbf01-6787-4a10-cb5a-7cf610503936",
        "colab": {
          "base_uri": "https://localhost:8080/",
          "height": 34
        }
      },
      "source": [
        "\n",
        "\n",
        "b=[0, 1, 2]\n",
        "print(all(b))\n",
        "\n"
      ],
      "execution_count": 0,
      "outputs": [
        {
          "output_type": "stream",
          "text": [
            "False\n"
          ],
          "name": "stdout"
        }
      ]
    },
    {
      "cell_type": "markdown",
      "metadata": {
        "id": "aYsquyDy-w9z",
        "colab_type": "text"
      },
      "source": [
        "**any**(iterable)\n",
        "\n",
        "Return True if any element of the iterable is true. If the iterable is empty, return False"
      ]
    },
    {
      "cell_type": "code",
      "metadata": {
        "id": "3HJf0gEK-6he",
        "colab_type": "code",
        "outputId": "c987c5d5-3f0b-4cd7-80cd-87830bc65368",
        "colab": {
          "base_uri": "https://localhost:8080/",
          "height": 34
        }
      },
      "source": [
        "a=[1, 2, 3]\n",
        "print(any(a))"
      ],
      "execution_count": 0,
      "outputs": [
        {
          "output_type": "stream",
          "text": [
            "True\n"
          ],
          "name": "stdout"
        }
      ]
    },
    {
      "cell_type": "markdown",
      "metadata": {
        "id": "lbq9LdDsG0Ss",
        "colab_type": "text"
      },
      "source": [
        "**ascii()**\n",
        "\n",
        "Returns a readable version of an object. Replaces none-ascii characters with escape character"
      ]
    },
    {
      "cell_type": "code",
      "metadata": {
        "id": "7ov_E5vNHCMX",
        "colab_type": "code",
        "outputId": "4565e4ab-84fd-4e3a-9a7e-1b263538e342",
        "colab": {
          "base_uri": "https://localhost:8080/",
          "height": 34
        }
      },
      "source": [
        "x = ascii(\"My name is Zeba\")\n",
        "print(x)"
      ],
      "execution_count": 0,
      "outputs": [
        {
          "output_type": "stream",
          "text": [
            "'My name is Zeba'\n"
          ],
          "name": "stdout"
        }
      ]
    },
    {
      "cell_type": "code",
      "metadata": {
        "id": "uuPo8cJLJMdG",
        "colab_type": "code",
        "outputId": "5fd53c34-9edc-4be0-a096-8d54a457bb0c",
        "colab": {
          "base_uri": "https://localhost:8080/",
          "height": 34
        }
      },
      "source": [
        "x=ascii(4)\n",
        "print(x)"
      ],
      "execution_count": 0,
      "outputs": [
        {
          "output_type": "stream",
          "text": [
            "4\n"
          ],
          "name": "stdout"
        }
      ]
    },
    {
      "cell_type": "markdown",
      "metadata": {
        "id": "KFoI7pI_Jps9",
        "colab_type": "text"
      },
      "source": [
        "**bin()**\n",
        "\n",
        "\n",
        "Convert an integer number to a binary string prefixed with “0b”. The result is a valid Python expression."
      ]
    },
    {
      "cell_type": "code",
      "metadata": {
        "id": "mEPueoNXJ4-z",
        "colab_type": "code",
        "outputId": "dcec407f-4b92-4aa1-dda2-e19880b13022",
        "colab": {
          "base_uri": "https://localhost:8080/",
          "height": 34
        }
      },
      "source": [
        "a=bin(5)\n",
        "print(a)"
      ],
      "execution_count": 0,
      "outputs": [
        {
          "output_type": "stream",
          "text": [
            "0b101\n"
          ],
          "name": "stdout"
        }
      ]
    },
    {
      "cell_type": "markdown",
      "metadata": {
        "id": "5Af43BrHL-WA",
        "colab_type": "text"
      },
      "source": [
        "**int()**\t\n",
        "\n",
        "\n",
        "Returns an integer number"
      ]
    },
    {
      "cell_type": "code",
      "metadata": {
        "id": "JIUfxlhKLzjx",
        "colab_type": "code",
        "outputId": "fde87d77-8f65-42c0-ab7e-1e56a0948190",
        "colab": {
          "base_uri": "https://localhost:8080/",
          "height": 34
        }
      },
      "source": [
        "print(int(3.5))"
      ],
      "execution_count": 0,
      "outputs": [
        {
          "output_type": "stream",
          "text": [
            "3\n"
          ],
          "name": "stdout"
        }
      ]
    }
  ]
}